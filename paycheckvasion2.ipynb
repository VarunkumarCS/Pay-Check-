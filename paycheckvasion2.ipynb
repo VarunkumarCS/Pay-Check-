{
 "cells": [
  {
   "cell_type": "code",
   "execution_count": 187,
   "id": "2c85000b-d68d-4dc6-8439-34a716b55381",
   "metadata": {},
   "outputs": [],
   "source": [
    "from tabulate import tabulate\n",
    "from pprint import pprint as pp\n",
    "import pandas as pd\n",
    "from datetime import datetime as dt"
   ]
  },
  {
   "cell_type": "code",
   "execution_count": 188,
   "id": "04d990ed-58fb-43ea-ad04-b5bbf2aea699",
   "metadata": {},
   "outputs": [
    {
     "name": "stdin",
     "output_type": "stream",
     "text": [
      "Enter the employee name:  Varun Kumar\n"
     ]
    },
    {
     "name": "stdout",
     "output_type": "stream",
     "text": [
      "\n"
     ]
    }
   ],
   "source": [
    "#To Print the name of the Employee\n",
    "name = (input(\"Enter the employee name: \"))"
   ]
  },
  {
   "cell_type": "code",
   "execution_count": 189,
   "id": "f63df6cf-b3d5-46a1-a63d-ae4c62f12164",
   "metadata": {},
   "outputs": [
    {
     "name": "stdin",
     "output_type": "stream",
     "text": [
      "Enter a date when the pay period started (in the format MM/DD/YYYY) :  02/12/2022\n"
     ]
    },
    {
     "name": "stdout",
     "output_type": "stream",
     "text": [
      "The time period started on: February 12, 2022\n"
     ]
    }
   ],
   "source": [
    "#To print the start date of the Employee\n",
    "start_date = input(\"Enter a date when the pay period started (in the format MM/DD/YYYY) : \")\n",
    "date_obj = dt.strptime(start_date, '%m/%d/%Y')\n",
    "print(\"The time period started on:\", date_obj.strftime(\"%B %d, %Y\"))"
   ]
  },
  {
   "cell_type": "code",
   "execution_count": 190,
   "id": "30a93940-7296-4978-9639-1b5c16f9aa20",
   "metadata": {},
   "outputs": [
    {
     "name": "stdin",
     "output_type": "stream",
     "text": [
      "Enter a date when the pay period started (in the format MM/DD/YYYY) :  02/12/2023\n"
     ]
    },
    {
     "name": "stdout",
     "output_type": "stream",
     "text": [
      "The time period ended on: February 12, 2023\n"
     ]
    }
   ],
   "source": [
    "#To print the end date of the Employee\n",
    "end_date = input(\"Enter a date when the pay period started (in the format MM/DD/YYYY) : \")\n",
    "date_obj = dt.strptime(end_date, '%m/%d/%Y')\n",
    "print(\"The time period ended on:\", date_obj.strftime(\"%B %d, %Y\"))"
   ]
  },
  {
   "cell_type": "code",
   "execution_count": 207,
   "id": "211213be-7c0f-4acb-843c-b02c05767ed7",
   "metadata": {},
   "outputs": [
    {
     "name": "stdin",
     "output_type": "stream",
     "text": [
      "Enter the gross wage of the employee:  80000\n"
     ]
    }
   ],
   "source": [
    "#To print the gross wages\n",
    "Gross_wages = int(input(\"Enter the gross wage of the employee: \"))"
   ]
  },
  {
   "cell_type": "code",
   "execution_count": 208,
   "id": "fdbcdcbf-cede-4007-9a89-88aec7e5c796",
   "metadata": {},
   "outputs": [
    {
     "name": "stdout",
     "output_type": "stream",
     "text": [
      "'The Tax deduction amount is: $13000 '\n",
      "'The gross wages after tax deduction is: $67000'\n"
     ]
    }
   ],
   "source": [
    "#Tax Deduction\n",
    "if Gross_wages > 70000:\n",
    "    Federal_Tax = 10000\n",
    "    State_Tax = 3000\n",
    "\n",
    "    tax_deduction = (Federal_Tax + State_Tax)\n",
    "    pp(f\"The Tax deduction amount is: ${tax_deduction} \")\n",
    "    \n",
    "    Gross_Wages_After_Tax_Deduction = (Gross_wages - tax_deduction)\n",
    "    pp(f\"The gross wages after tax deduction is: ${Gross_Wages_After_Tax_Deduction}\") \n",
    "\n",
    "elif Gross_wages <= 70000:\n",
    "    Federal_Tax = 8168\n",
    "    State_Tax = 2321\n",
    "\n",
    "    tax_deduction = (Federal_Tax + State_Tax)\n",
    "    pp(f\"The Tax deduction amount is: ${tax_deduction} \")\n",
    "    \n",
    "    Gross_Wages_After_Tax_Deduction = (Gross_wages - tax_deduction)\n",
    "    pp(f\"The gross wages after tax deduction is: ${Gross_Wages_After_Tax_Deduction}\") \n",
    "\n",
    "elif 70000 >= Gross_wages <= 65000:\n",
    "    Federal_Tax = 7288\n",
    "    State_Tax = 1332\n",
    "    tax_deduction = Gross_wages - (Federal_Tax + State_Tax)\n",
    "    pp(f\"The Tax deduction amount is: ${tax_deduction} \")\n",
    "\n",
    "    Gross_Wages_After_Tax_Deduction = (Gross_wages - tax_deduction)\n",
    "    pp(f\"The gross wages after tax deduction is: ${Gross_Wages_After_Tax_Deduction}\") \n",
    "\n",
    "else:\n",
    "    print(\"Enter the valid amount\")"
   ]
  },
  {
   "cell_type": "code",
   "execution_count": 209,
   "id": "0b1ef83b-0be1-47bb-84ea-9e5b9270bc7e",
   "metadata": {},
   "outputs": [
    {
     "name": "stdin",
     "output_type": "stream",
     "text": [
      "Is the Employee taking benefits (enter 'yes' for the employee benefit deduction) or (enter 'no')?  yes\n"
     ]
    },
    {
     "name": "stdout",
     "output_type": "stream",
     "text": [
      "'The Gross wage after the Tax and Employee Benefits Deduction is: $64500'\n",
      "\n"
     ]
    }
   ],
   "source": [
    "#Employee Benefits Deduction\n",
    "benefits = input(\"Is the Employee taking benefits (enter 'yes' for the employee benefit deduction) or (enter 'no')? \")\n",
    "if benefits == \"yes\":\n",
    "    Employee_Benefits = 2500\n",
    "    Gross_Wages_After_Tax_And_EmployeeBenefitDeduction = (Gross_wages - (tax_deduction + Employee_Benefits))\n",
    "    pp(f\"The Gross wage after the Tax and Employee Benefits Deduction is: ${Gross_Wages_After_Tax_And_EmployeeBenefitDeduction}\")\n",
    "       \n",
    "elif benefits == \"no\":\n",
    "    Employee_Benefits = 0\n",
    "    Gross_Wages_After_Tax_And_EmployeeBenefitDeduction = (Gross_wages - tax_deduction)\n",
    "    pp(f\"The Gross wage after the Tax Deduction is: ${Gross_Wages_After_Tax_And_EmployeeBenefitDeduction}\")\n",
    "        \n",
    "else:\n",
    "    print(\"Invalid input. Please enter either 'Yes' or 'No'.\")\n",
    "print()"
   ]
  },
  {
   "cell_type": "code",
   "execution_count": 210,
   "id": "3bb1ff27-08f5-43a9-bd46-3374b999d539",
   "metadata": {},
   "outputs": [
    {
     "name": "stdout",
     "output_type": "stream",
     "text": [
      "'Annual Salary of the Employee is $64500'\n"
     ]
    }
   ],
   "source": [
    "#Net Pay\n",
    "net_pay = Gross_Wages_After_Tax_And_EmployeeBenefitDeduction\n",
    "pp(f\"Annual Salary of the Employee is ${net_pay}\")"
   ]
  },
  {
   "cell_type": "code",
   "execution_count": 211,
   "id": "b56fc92a-2461-49b4-b906-d42efde207b7",
   "metadata": {},
   "outputs": [
    {
     "data": {
      "text/plain": [
       "'The Employee Information is'"
      ]
     },
     "metadata": {},
     "output_type": "display_data"
    },
    {
     "data": {
      "text/html": [
       "<div>\n",
       "<style scoped>\n",
       "    .dataframe tbody tr th:only-of-type {\n",
       "        vertical-align: middle;\n",
       "    }\n",
       "\n",
       "    .dataframe tbody tr th {\n",
       "        vertical-align: top;\n",
       "    }\n",
       "\n",
       "    .dataframe thead th {\n",
       "        text-align: right;\n",
       "    }\n",
       "</style>\n",
       "<table border=\"1\" class=\"dataframe\">\n",
       "  <thead>\n",
       "    <tr style=\"text-align: right;\">\n",
       "      <th></th>\n",
       "      <th>Name</th>\n",
       "      <th>Starting Date</th>\n",
       "      <th>Ending Time</th>\n",
       "      <th>Gross Wage</th>\n",
       "      <th>Gross Wage after Tax Deduction</th>\n",
       "      <th>Gross Wage after Tax and Employee Benefit Deduction</th>\n",
       "      <th>Take Home</th>\n",
       "    </tr>\n",
       "  </thead>\n",
       "  <tbody>\n",
       "    <tr>\n",
       "      <th>0</th>\n",
       "      <td>Varun Kumar</td>\n",
       "      <td>02/12/2022</td>\n",
       "      <td>02/12/2023</td>\n",
       "      <td>80000</td>\n",
       "      <td>67000</td>\n",
       "      <td>64500</td>\n",
       "      <td>64500</td>\n",
       "    </tr>\n",
       "  </tbody>\n",
       "</table>\n",
       "</div>"
      ],
      "text/plain": [
       "          Name Starting Date Ending Time  Gross Wage  \\\n",
       "0  Varun Kumar    02/12/2022  02/12/2023       80000   \n",
       "\n",
       "   Gross Wage after Tax Deduction  \\\n",
       "0                           67000   \n",
       "\n",
       "   Gross Wage after Tax and Employee Benefit Deduction  Take Home  \n",
       "0                                              64500        64500  "
      ]
     },
     "metadata": {},
     "output_type": "display_data"
    }
   ],
   "source": [
    "# creating the dataframe\n",
    "data= {'Name': [name], \n",
    "       'Starting Date' :[start_date],\n",
    "       'Ending Time' :[end_date],\n",
    "       'Gross Wage' : [Gross_wages], \n",
    "       'Gross Wage after Tax Deduction':[Gross_Wages_After_Tax_Deduction], \n",
    "       'Gross Wage after Tax and Employee Benefit Deduction': [Gross_Wages_After_Tax_And_EmployeeBenefitDeduction], \n",
    "       'Take Home' : [net_pay]}\n",
    "df = pd.DataFrame(data)\n",
    "display(\"The Employee Information is\")\n",
    "\n",
    "display(df)"
   ]
  },
  {
   "cell_type": "code",
   "execution_count": 212,
   "id": "93626951-6de7-460d-aab1-d4f5bf280eb0",
   "metadata": {},
   "outputs": [
    {
     "name": "stdout",
     "output_type": "stream",
     "text": [
      "+---+-------------+---------------+-------------+------------+--------------------------------+-----------------------------------------------------+-----------+\n",
      "|   |    Name     | Starting Date | Ending Time | Gross Wage | Gross Wage after Tax Deduction | Gross Wage after Tax and Employee Benefit Deduction | Take Home |\n",
      "+---+-------------+---------------+-------------+------------+--------------------------------+-----------------------------------------------------+-----------+\n",
      "| 0 | Varun Kumar |  02/12/2022   | 02/12/2023  |   80000    |             67000              |                        64500                        |   64500   |\n",
      "+---+-------------+---------------+-------------+------------+--------------------------------+-----------------------------------------------------+-----------+\n"
     ]
    }
   ],
   "source": [
    "print(tabulate(data, headers=['Name','Starting Date','Ending Time','Gross Wage','Gross Wage after Tax Deduction','Gross Wage after Tax and Employee Benefit Deduction','Take Home'], tablefmt = \"pretty\",showindex = True, missingval = 'n/a'))"
   ]
  },
  {
   "cell_type": "code",
   "execution_count": null,
   "id": "1cdd1b18-c260-4dd6-9156-13eaf31bcfc8",
   "metadata": {},
   "outputs": [],
   "source": []
  }
 ],
 "metadata": {
  "kernelspec": {
   "display_name": "anaconda-2022.05-py39",
   "language": "python",
   "name": "conda-env-anaconda-2022.05-py39-py"
  },
  "language_info": {
   "codemirror_mode": {
    "name": "ipython",
    "version": 3
   },
   "file_extension": ".py",
   "mimetype": "text/x-python",
   "name": "python",
   "nbconvert_exporter": "python",
   "pygments_lexer": "ipython3",
   "version": "3.9.12"
  }
 },
 "nbformat": 4,
 "nbformat_minor": 5
}
