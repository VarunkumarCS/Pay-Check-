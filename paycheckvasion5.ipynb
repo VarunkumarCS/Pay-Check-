{
 "cells": [
  {
   "cell_type": "code",
   "execution_count": 162,
   "id": "22b42b65-1174-4c7d-81e1-a9c6ceea51b4",
   "metadata": {},
   "outputs": [
    {
     "name": "stdin",
     "output_type": "stream",
     "text": [
      "Enter the name:  Varun Kumar\n"
     ]
    },
    {
     "name": "stdout",
     "output_type": "stream",
     "text": [
      "The name of the Employee is: Varun Kumar\n",
      "\n"
     ]
    },
    {
     "name": "stdin",
     "output_type": "stream",
     "text": [
      "Enter a date when the pay period started (in the format MM/DD/YYYY) :  02/22/2022\n",
      "Enter a date when the pay period started (in the format MM/DD/YYYY) :  02/22/2023\n"
     ]
    },
    {
     "name": "stdout",
     "output_type": "stream",
     "text": [
      "The time period started on: February 22, 2022\n",
      "The time period ended on: February 22, 2023\n"
     ]
    }
   ],
   "source": [
    "from tabulate import tabulate\n",
    "from pprint import pprint as pp\n",
    "import pandas as pd\n",
    "from datetime import datetime as dt\n",
    "\n",
    "#To print the Name, Start Date and End Date of the Employee\n",
    "def isNumber(name):\n",
    "    return name.isnumeric()\n",
    "\n",
    "if __name__ == \"__main__\":\n",
    "    while True:\n",
    "        # Saving the input in a string\n",
    "        name = input(\"Enter the name: \")\n",
    "\n",
    "        # Function returns true if st is number\n",
    "        if isNumber(name):\n",
    "            print(\"Enter a valid name. The name can only be in Alphabets\")\n",
    "\n",
    "        # Function returns false if st is not number\n",
    "        else:\n",
    "            print(f\"The name of the Employee is: {name}\")\n",
    "            print()\n",
    "            break\n",
    "\n",
    "def date(start_date,end_date):\n",
    "    return start_date\n",
    "    return end_date\n",
    "\n",
    "if __name__ == \"__main__\":\n",
    "    while True:\n",
    "        start_date = input(\"Enter a date when the pay period started (in the format MM/DD/YYYY) : \")\n",
    "        end_date = input(\"Enter a date when the pay period started (in the format MM/DD/YYYY) : \")\n",
    "        \n",
    "        try:\n",
    "            if date(start_date,end_date):\n",
    "                date_object1 = dt.strptime(start_date, '%m/%d/%Y')\n",
    "                print(\"The time period started on:\", date_object1.strftime(\"%B %d, %Y\"))\n",
    "\n",
    "                date_object2 = dt.strptime(end_date, '%m/%d/%Y')\n",
    "                print(\"The time period ended on:\", date_object2.strftime(\"%B %d, %Y\"))\n",
    "                break\n",
    "        except ValueError:\n",
    "                print(' ENTER THE VALID DATE FORMAT ====== MM/DD/YY.')"
   ]
  },
  {
   "cell_type": "code",
   "execution_count": 163,
   "id": "d2f24974-1a8e-473d-9a00-54d5f1949e83",
   "metadata": {},
   "outputs": [
    {
     "name": "stdin",
     "output_type": "stream",
     "text": [
      "Enter the gross wage of the employee:  78945\n",
      "Is the Employee taking benefits (enter 'yes' for the employee benefit deduction) or (enter 'no')?  yes\n",
      "Which type of insurance employee is taking - premium || basic:  premium\n"
     ]
    },
    {
     "name": "stdout",
     "output_type": "stream",
     "text": [
      "\n"
     ]
    },
    {
     "data": {
      "text/plain": [
       "'The Employee Information is'"
      ]
     },
     "metadata": {},
     "output_type": "display_data"
    },
    {
     "name": "stdout",
     "output_type": "stream",
     "text": [
      "+------+------------+---------------+-----------------------------+-----------+------------------+---------------------+\n",
      "| Name | Gross Wage | Tax Deduction | Benefit Deduction (Premium) | Take Home | Monthly Paycheck | Bi-Weekely Paycheck |\n",
      "+------+------------+---------------+-----------------------------+-----------+------------------+---------------------+\n",
      "|  0   |   78945    |     10200     |            2500             |   68745   |       5729       |        2864         |\n",
      "+------+------------+---------------+-----------------------------+-----------+------------------+---------------------+\n"
     ]
    }
   ],
   "source": [
    " def Gross_Wages_After_Tax_And_EmployeeBenefitDeduction(Gross_wages,benefits):\n",
    "        \n",
    "        Gross_wages = int(input(\"Enter the gross wage of the employee: \"))\n",
    "        if Gross_wages >= 100000:\n",
    "            Federal_Tax = 12000\n",
    "            State_Tax = 2200\n",
    "        elif 90000 <= Gross_wages < 100000:\n",
    "            Federal_Tax = 10000\n",
    "            State_Tax = 2200\n",
    "        elif 80000 <= Gross_wages < 90000:\n",
    "            Federal_Tax = 9000\n",
    "            State_Tax = 2200\n",
    "        elif 70000 <= Gross_wages < 80000:\n",
    "            Federal_Tax = 8000\n",
    "            State_Tax = 2200\n",
    "        elif 60000 <= Gross_wages < 70000:\n",
    "            Federal_Tax = 7000\n",
    "            State_Tax = 2200\n",
    "        elif 50000 <= Gross_wages < 60000:\n",
    "            Federal_Tax = 5000\n",
    "            State_Tax = 2200\n",
    "        else:\n",
    "            print(\"Every employee in this company makes at least $50000 or more.\")\n",
    "            return None\n",
    "    \n",
    "        tax_deduction = Federal_Tax + State_Tax\n",
    "        Gross_Wages_After_Tax_And_EmployeeBenefitDeduction = Gross_wages - tax_deduction\n",
    "        \n",
    "        benefits = input(\"Is the Employee taking benefits (enter 'yes' for the employee benefit deduction) or (enter 'no')? \")\n",
    "        if benefits == \"yes\":\n",
    "            name_of_the_insurance = input(\"Which type of insurance employee is taking - premium || basic: \")\n",
    "            if name_of_the_insurance == \"premium\":\n",
    "                name_of_the_insurance_premium = 2500\n",
    "                Premium_Deduction = Gross_Wages_After_Tax_And_EmployeeBenefitDeduction - name_of_the_insurance_premium\n",
    "                \n",
    "            elif name_of_the_insurance == \"basic\":\n",
    "                name_of_the_insurance_basic = 2000\n",
    "                Basic_Deduction = Gross_Wages_After_Tax_And_EmployeeBenefitDeduction - name_of_the_insurance_basic\n",
    "            else:\n",
    "                print(\"Invalid input. Please enter either 'premium' or 'basic' for the insurance policy.\")\n",
    "    \n",
    "        elif benefits == \"no\":\n",
    "            Employee_Benefits = 0\n",
    "            Gross_Wages_After_Tax_And_EmployeeBenefitDeduction = (Gross_wages -  tax_deduction)\n",
    "        \n",
    "        else:\n",
    "            print(\"Invalid input. Please enter either 'Yes' or 'No'.\")\n",
    "            \n",
    "        Monthly_Paycheck = round(Gross_Wages_After_Tax_And_EmployeeBenefitDeduction/12)\n",
    "        Bi_weekely_Paycheck = round(Monthly_Paycheck/2)\n",
    "        print()\n",
    "        \n",
    "#Tabulate the Data\n",
    "        data = {'Gross Wage' : [Gross_wages], 'Tax Deduction':[tax_deduction],'Benefit Deduction (Premium)':[name_of_the_insurance_premium],\n",
    "                'Take Home':[Gross_Wages_After_Tax_And_EmployeeBenefitDeduction],'Monthly Pay':[Monthly_Paycheck], 'Bi Weekely Paycheck': [Bi_weekely_Paycheck]}\n",
    "        display(\"The Employee Information is\")\n",
    "        \n",
    "        print(tabulate(data, headers=['Name','Gross Wage','Tax Deduction','Benefit Deduction (Premium)','Take Home','Monthly Paycheck','Bi-Weekely Paycheck'], \n",
    "                       tablefmt = \"pretty\",showindex = True, missingval = 'N/A'))\n",
    "    \n",
    "if __name__ == \"__main__\":\n",
    "    Gross_Wages_After_Tax_And_EmployeeBenefitDeduction(Gross_wages,benefits)"
   ]
  }
 ],
 "metadata": {
  "kernelspec": {
   "display_name": "anaconda-2022.05-py39",
   "language": "python",
   "name": "conda-env-anaconda-2022.05-py39-py"
  },
  "language_info": {
   "codemirror_mode": {
    "name": "ipython",
    "version": 3
   },
   "file_extension": ".py",
   "mimetype": "text/x-python",
   "name": "python",
   "nbconvert_exporter": "python",
   "pygments_lexer": "ipython3",
   "version": "3.9.12"
  }
 },
 "nbformat": 4,
 "nbformat_minor": 5
}
