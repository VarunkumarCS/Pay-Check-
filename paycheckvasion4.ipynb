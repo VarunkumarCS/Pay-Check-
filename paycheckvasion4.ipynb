{
 "cells": [
  {
   "cell_type": "code",
   "execution_count": 14,
   "id": "2c85000b-d68d-4dc6-8439-34a716b55381",
   "metadata": {},
   "outputs": [],
   "source": [
    "from tabulate import tabulate\n",
    "from pprint import pprint as pp\n",
    "import pandas as pd\n",
    "from datetime import datetime as dt"
   ]
  },
  {
   "cell_type": "code",
   "execution_count": 59,
   "id": "4294c9ae-156d-489d-86b8-599b36dd8b28",
   "metadata": {},
   "outputs": [
    {
     "name": "stdin",
     "output_type": "stream",
     "text": [
      "Enter the name:  a\n"
     ]
    },
    {
     "name": "stdout",
     "output_type": "stream",
     "text": [
      "'The name of the Employee is : a'\n"
     ]
    }
   ],
   "source": [
    "def isNumber(name):\n",
    "    return name.isnumeric()\n",
    " \n",
    "if __name__ == \"__main__\":\n",
    "    # Saving the input in a string\n",
    "    name = input(\"Enter the name: \")\n",
    " \n",
    "    print(end='')\n",
    "    # Function returns true if st is number\n",
    "    if isNumber(name):\n",
    "        print(\"Enter the valid Name: (NAME - Data Type can only be string)\")\n",
    " \n",
    "    # Function returns false if st is not number\n",
    "    else:\n",
    "        pp(f\"The name of the Employee is : {name}\")"
   ]
  },
  {
   "cell_type": "code",
   "execution_count": 16,
   "id": "f63df6cf-b3d5-46a1-a63d-ae4c62f12164",
   "metadata": {},
   "outputs": [
    {
     "name": "stdin",
     "output_type": "stream",
     "text": [
      "Enter a date when the pay period started (in the format MM/DD/YYYY) :  02/22/2022\n"
     ]
    },
    {
     "name": "stdout",
     "output_type": "stream",
     "text": [
      "The time period started on: February 22, 2022\n"
     ]
    }
   ],
   "source": [
    "#To print the start date of the Employee\n",
    "start_date = input(\"Enter a date when the pay period started (in the format MM/DD/YYYY) : \")\n",
    "date_obj = dt.strptime(start_date, '%m/%d/%Y')\n",
    "print(\"The time period started on:\", date_obj.strftime(\"%B %d, %Y\"))"
   ]
  },
  {
   "cell_type": "code",
   "execution_count": 17,
   "id": "30a93940-7296-4978-9639-1b5c16f9aa20",
   "metadata": {},
   "outputs": [
    {
     "name": "stdin",
     "output_type": "stream",
     "text": [
      "Enter a date when the pay period started (in the format MM/DD/YYYY) :  02/22/2023\n"
     ]
    },
    {
     "name": "stdout",
     "output_type": "stream",
     "text": [
      "The time period ended on: February 22, 2023\n"
     ]
    }
   ],
   "source": [
    "#To print the end date of the Employee\n",
    "end_date = input(\"Enter a date when the pay period started (in the format MM/DD/YYYY) : \")\n",
    "date_obj = dt.strptime(end_date, '%m/%d/%Y')\n",
    "print(\"The time period ended on:\", date_obj.strftime(\"%B %d, %Y\"))"
   ]
  },
  {
   "cell_type": "code",
   "execution_count": 57,
   "id": "d2f24974-1a8e-473d-9a00-54d5f1949e83",
   "metadata": {},
   "outputs": [
    {
     "name": "stdin",
     "output_type": "stream",
     "text": [
      "Enter the gross wage of the employee:  78555\n"
     ]
    },
    {
     "name": "stdout",
     "output_type": "stream",
     "text": [
      "The tax deduction amount is: $10200\n",
      "\n"
     ]
    },
    {
     "name": "stdin",
     "output_type": "stream",
     "text": [
      "Is the Employee taking benefits (enter 'yes' for the employee benefit deduction) or (enter 'no')?  yes\n",
      "Which type of insurance employee is taking - premium || basic:  basic\n"
     ]
    },
    {
     "name": "stdout",
     "output_type": "stream",
     "text": [
      "'The Net Pay is: $66355'\n",
      "\n"
     ]
    },
    {
     "data": {
      "text/plain": [
       "'The Employee Information is'"
      ]
     },
     "metadata": {},
     "output_type": "display_data"
    },
    {
     "data": {
      "text/html": [
       "<div>\n",
       "<style scoped>\n",
       "    .dataframe tbody tr th:only-of-type {\n",
       "        vertical-align: middle;\n",
       "    }\n",
       "\n",
       "    .dataframe tbody tr th {\n",
       "        vertical-align: top;\n",
       "    }\n",
       "\n",
       "    .dataframe thead th {\n",
       "        text-align: right;\n",
       "    }\n",
       "</style>\n",
       "<table border=\"1\" class=\"dataframe\">\n",
       "  <thead>\n",
       "    <tr style=\"text-align: right;\">\n",
       "      <th></th>\n",
       "      <th>Gross Wage</th>\n",
       "      <th>Gross Wage after Tax and Employee Benefit Deduction</th>\n",
       "    </tr>\n",
       "  </thead>\n",
       "  <tbody>\n",
       "    <tr>\n",
       "      <th>0</th>\n",
       "      <td>78555</td>\n",
       "      <td>66355</td>\n",
       "    </tr>\n",
       "  </tbody>\n",
       "</table>\n",
       "</div>"
      ],
      "text/plain": [
       "   Gross Wage  Gross Wage after Tax and Employee Benefit Deduction\n",
       "0       78555                                              66355  "
      ]
     },
     "metadata": {},
     "output_type": "display_data"
    },
    {
     "name": "stdout",
     "output_type": "stream",
     "text": [
      "\n",
      "+------+------------+-----------------------------------------------------+\n",
      "| Name | Gross Wage | Gross Wage after Tax and Employee Benefit Deduction |\n",
      "+------+------------+-----------------------------------------------------+\n",
      "|  0   |   78555    |                        66355                        |\n",
      "+------+------------+-----------------------------------------------------+\n"
     ]
    }
   ],
   "source": [
    " def Gross_Wages_After_Tax_And_EmployeeBenefitDeduction(Gross_wages,benefits):\n",
    "        \n",
    "        Gross_wages = int(input(\"Enter the gross wage of the employee: \"))\n",
    "        if Gross_wages >= 100000:\n",
    "            Federal_Tax = 12000\n",
    "            State_Tax = 2200\n",
    "        elif 90000 <= Gross_wages < 100000:\n",
    "            Federal_Tax = 10000\n",
    "            State_Tax = 2200\n",
    "        elif 80000 <= Gross_wages < 90000:\n",
    "            Federal_Tax = 9000\n",
    "            State_Tax = 2200\n",
    "        elif 70000 <= Gross_wages < 80000:\n",
    "            Federal_Tax = 8000\n",
    "            State_Tax = 2200\n",
    "        elif 60000 <= Gross_wages < 70000:\n",
    "            Federal_Tax = 7000\n",
    "            State_Tax = 2200\n",
    "        elif 50000 <= Gross_wages < 60000:\n",
    "            Federal_Tax = 5000\n",
    "            State_Tax = 2200\n",
    "        else:\n",
    "            print(\"Every employee in this company makes at least $50000 or more.\")\n",
    "            return None\n",
    "    \n",
    "        tax_deduction = Federal_Tax + State_Tax\n",
    "        \n",
    "        Gross_Wages_After_Tax_And_EmployeeBenefitDeduction = Gross_wages - tax_deduction\n",
    "        print(f\"The tax deduction amount is: ${tax_deduction}\")\n",
    "        print()\n",
    "        \n",
    "        benefits = input(\"Is the Employee taking benefits (enter 'yes' for the employee benefit deduction) or (enter 'no')? \")\n",
    "        if benefits == \"yes\":\n",
    "            name_of_the_insurance = input(\"Which type of insurance employee is taking - premium || basic: \")\n",
    "            if name_of_the_insurance == \"premium\":\n",
    "                Gross_Wages_After_Tax_And_EmployeeBenefitDeduction = (Gross_wages - (tax_deduction + 2500))\n",
    "    \n",
    "            elif name_of_the_insurance == \"basic\":\n",
    "                Gross_Wages_After_Tax_And_EmployeeBenefitDeduction = (Gross_wages - (tax_deduction + 2000))\n",
    "        \n",
    "            else:\n",
    "                print(\"Invalid input. Please enter either 'premium' or 'basic' for the insurance policy.\")\n",
    "    \n",
    "        elif benefits == \"no\":\n",
    "            Employee_Benefits = 0\n",
    "            Gross_Wages_After_Tax_And_EmployeeBenefitDeduction = (Gross_wages -  tax_deduction)\n",
    "        \n",
    "        else:\n",
    "            print(\"Invalid input. Please enter either 'Yes' or 'No'.\")\n",
    "            \n",
    "        \n",
    "        pp(f\"The Net Pay is: ${Gross_Wages_After_Tax_And_EmployeeBenefitDeduction}\")\n",
    "        print()\n",
    "        \n",
    "#Tabulate the Data\n",
    "        data = {'Gross Wage' : [Gross_wages],'Gross Wage after Tax and Employee Benefit Deduction': [Gross_Wages_After_Tax_And_EmployeeBenefitDeduction]}\n",
    "        df = pd.DataFrame(data)\n",
    "        display(\"The Employee Information is\")\n",
    "        display(df)\n",
    "        print()\n",
    "        \n",
    "#Tabulate the Data in different format\n",
    "        print(tabulate(data, headers=['Name','Gross Wage','Gross Wage after Tax and Employee Benefit Deduction'], tablefmt = \"pretty\",showindex = True, missingval = 'N/A'))\n",
    "    \n",
    "if __name__ == \"__main__\":\n",
    "    Gross_Wages_After_Tax_And_EmployeeBenefitDeduction(Gross_wages,benefits)"
   ]
  }
 ],
 "metadata": {
  "kernelspec": {
   "display_name": "anaconda-2022.05-py39",
   "language": "python",
   "name": "conda-env-anaconda-2022.05-py39-py"
  },
  "language_info": {
   "codemirror_mode": {
    "name": "ipython",
    "version": 3
   },
   "file_extension": ".py",
   "mimetype": "text/x-python",
   "name": "python",
   "nbconvert_exporter": "python",
   "pygments_lexer": "ipython3",
   "version": "3.9.12"
  }
 },
 "nbformat": 4,
 "nbformat_minor": 5
}
